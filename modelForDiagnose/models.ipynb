{
  "cells": [
    {
      "cell_type": "code",
      "execution_count": null,
      "metadata": {
        "id": "xoc6gLykBPwX"
      },
      "outputs": [],
      "source": [
        "input_path = \"/content/drive/MyDrive/machine learning projects/training set/monkey pox/\""
      ]
    },
    {
      "cell_type": "code",
      "source": [],
      "metadata": {
        "id": "hL0-KekespP_"
      },
      "execution_count": null,
      "outputs": []
    },
    {
      "cell_type": "code",
      "execution_count": null,
      "metadata": {
        "id": "LiEoA-uTnOwO"
      },
      "outputs": [],
      "source": [
        "import pandas as pd\n",
        "import numpy as np\n",
        "import seaborn as sns\n",
        "import matplotlib.pyplot as plt\n",
        "import os\n",
        "import torch\n",
        "from torchvision import datasets, models, transforms\n",
        "import torch.nn as nn\n",
        "from torch.nn import functional as F\n",
        "import torch.optim as optim\n",
        "import torchvision\n",
        "import albumentations as A\n",
        "\n",
        "from PIL import Image"
      ]
    },
    {
      "cell_type": "code",
      "execution_count": null,
      "metadata": {
        "id": "5lEF4I2onPPR"
      },
      "outputs": [],
      "source": [
        "normalize = transforms.Normalize(mean=[0.485, 0.456, 0.406],\n",
        "                                 std=[0.229, 0.224, 0.225])\n",
        "\n",
        "data_transforms = {\n",
        "    'train':\n",
        "    transforms.Compose([\n",
        "        transforms.Resize((224,224)),\n",
        "        transforms.RandomAffine(0, shear=10, scale=(0.8,1.2)),\n",
        "        transforms.RandomHorizontalFlip(),\n",
        "        transforms.ToTensor(),\n",
        "        normalize\n",
        "    ]),\n",
        "    'test':\n",
        "    transforms.Compose([\n",
        "        transforms.Resize((224,224)),\n",
        "        transforms.ToTensor(),\n",
        "        normalize\n",
        "    ]),\n",
        "}\n",
        "\n",
        "image_datasets = {\n",
        "    'train': \n",
        "    datasets.ImageFolder(input_path + 'train', data_transforms['train']),\n",
        "    'test': \n",
        "    datasets.ImageFolder(input_path + 'test', data_transforms['test'])\n",
        "}\n",
        "\n",
        "dataloaders = {\n",
        "    'train':\n",
        "    torch.utils.data.DataLoader(image_datasets['train'],\n",
        "                                batch_size=32,\n",
        "                                shuffle=True,\n",
        "                                num_workers=0),  # for Kaggle\n",
        "    'test':\n",
        "    torch.utils.data.DataLoader(image_datasets['test'],\n",
        "                                batch_size=32,\n",
        "                                shuffle=False,\n",
        "                                num_workers=0)  # for Kaggle\n",
        "}"
      ]
    },
    {
      "cell_type": "code",
      "execution_count": null,
      "metadata": {
        "colab": {
          "base_uri": "https://localhost:8080/"
        },
        "id": "b0Mm2cOs7a2c",
        "outputId": "a280bfc0-a53b-456b-8d81-009fd0d52873"
      },
      "outputs": [
        {
          "data": {
            "text/plain": [
              "device(type='cuda', index=0)"
            ]
          },
          "execution_count": 7,
          "metadata": {},
          "output_type": "execute_result"
        }
      ],
      "source": [
        "device = torch.device(\"cuda:0\" if torch.cuda.is_available() else \"cpu\")\n",
        "device"
      ]
    },
    {
      "cell_type": "code",
      "execution_count": null,
      "metadata": {
        "colab": {
          "base_uri": "https://localhost:8080/",
          "height": 128,
          "referenced_widgets": [
            "40b90ae599a4477bb9b0a8a52899f845",
            "2555e077e1d64c0388786d245eae34ff",
            "68e5e6b31e124ba3a5de21aa8252a68b",
            "ef39ed49e7cb463f9b80ef95eb18cb95",
            "effd480771d244ba930cc7e16d0f101b",
            "49fd710c9d7a42eba42249efb3371e65",
            "12961ea048554a3ba506226850e0236e",
            "13747e21be5943beae8223178a5ece3f",
            "a30854d049e540cb81f31da9eae9cfd7",
            "7fbd16582654438e8be86507057dd53e",
            "c134246d32db49198fc367f9aeb2ba85"
          ]
        },
        "id": "vQzWOZCs7dzQ",
        "outputId": "694c50bb-a3e0-4807-f24b-090b38ad1015"
      },
      "outputs": [
        {
          "name": "stderr",
          "output_type": "stream",
          "text": [
            "/usr/local/lib/python3.7/dist-packages/torchvision/models/_utils.py:209: UserWarning: The parameter 'pretrained' is deprecated since 0.13 and will be removed in 0.15, please use 'weights' instead.\n",
            "  f\"The parameter '{pretrained_param}' is deprecated since 0.13 and will be removed in 0.15, \"\n",
            "/usr/local/lib/python3.7/dist-packages/torchvision/models/_utils.py:223: UserWarning: Arguments other than a weight enum or `None` for 'weights' are deprecated since 0.13 and will be removed in 0.15. The current behavior is equivalent to passing `weights=ResNet50_Weights.IMAGENET1K_V1`. You can also use `weights=ResNet50_Weights.DEFAULT` to get the most up-to-date weights.\n",
            "  warnings.warn(msg)\n",
            "Downloading: \"https://download.pytorch.org/models/resnet50-0676ba61.pth\" to /root/.cache/torch/hub/checkpoints/resnet50-0676ba61.pth\n"
          ]
        },
        {
          "data": {
            "application/json": {
              "ascii": false,
              "bar_format": null,
              "colour": null,
              "elapsed": 0.019260168075561523,
              "initial": 0,
              "n": 0,
              "ncols": null,
              "nrows": null,
              "postfix": null,
              "prefix": "",
              "rate": null,
              "total": 102530333,
              "unit": "B",
              "unit_divisor": 1024,
              "unit_scale": true
            },
            "application/vnd.jupyter.widget-view+json": {
              "model_id": "40b90ae599a4477bb9b0a8a52899f845",
              "version_major": 2,
              "version_minor": 0
            },
            "text/plain": [
              "  0%|          | 0.00/97.8M [00:00<?, ?B/s]"
            ]
          },
          "metadata": {},
          "output_type": "display_data"
        }
      ],
      "source": [
        "model = models.resnet50(pretrained=True).to(device)\n",
        "    \n",
        "for param in model.parameters():\n",
        "    param.requires_grad = False   \n",
        "    \n",
        "model.fc = nn.Sequential(\n",
        "               nn.Linear(2048, 128),\n",
        "               nn.ReLU(inplace=True),\n",
        "               nn.Linear(128, 2)).to(device)"
      ]
    },
    {
      "cell_type": "code",
      "execution_count": null,
      "metadata": {
        "id": "lFq3fF_U7gUx"
      },
      "outputs": [],
      "source": [
        "criterion = nn.CrossEntropyLoss()\n",
        "optimizer = optim.Adam(model.fc.parameters())"
      ]
    },
    {
      "cell_type": "code",
      "execution_count": null,
      "metadata": {
        "id": "z-v48zdU7kCJ"
      },
      "outputs": [],
      "source": [
        "def train_model(model, criterion, optimizer, num_epochs=3):\n",
        "    max_score=0\n",
        "    for epoch in range(num_epochs):\n",
        "        print('Epoch {}/{}'.format(epoch+1, num_epochs))\n",
        "        print('-' * 10)\n",
        "\n",
        "        for phase in ['train', 'test']:\n",
        "            if phase == 'train':\n",
        "                model.train()\n",
        "            else:\n",
        "                model.eval()\n",
        "\n",
        "            running_loss = 0.0\n",
        "            running_corrects = 0\n",
        "\n",
        "            for inputs, labels in dataloaders[phase]:\n",
        "                inputs = inputs.to(device)\n",
        "                labels = labels.to(device)\n",
        "\n",
        "                outputs = model(inputs)\n",
        "                loss = criterion(outputs, labels)\n",
        "\n",
        "                if phase == 'train':\n",
        "                    optimizer.zero_grad()\n",
        "                    loss.backward()\n",
        "                    optimizer.step()\n",
        "\n",
        "                _, preds = torch.max(outputs, 1)\n",
        "                running_loss += loss.item() * inputs.size(0)\n",
        "                running_corrects += torch.sum(preds == labels.data)\n",
        "\n",
        "            epoch_loss = running_loss / len(image_datasets[phase])\n",
        "            epoch_acc = running_corrects.double() / len(image_datasets[phase])\n",
        "\n",
        "            print('{} loss: {:.4f}, acc: {:.4f}'.format(phase,\n",
        "                                                        epoch_loss,\n",
        "                                                        epoch_acc))\n",
        "        if(max_score<epoch_acc):\n",
        "          torch.save(model.state_dict(), '/content/drive/MyDrive/machine learning projects/monkey pox/weight/resnet(50).h5')\n",
        "          print(\"model saved~\")\n",
        "          max_score=epoch_acc\n",
        "    return model"
      ]
    },
    {
      "cell_type": "code",
      "execution_count": null,
      "metadata": {
        "colab": {
          "background_save": true,
          "base_uri": "https://localhost:8080/"
        },
        "id": "dbNoEt9F7tVy",
        "outputId": "c4e66b50-cebc-4651-ad79-50b1b9c0cbba"
      },
      "outputs": [
        {
          "name": "stdout",
          "output_type": "stream",
          "text": [
            "Epoch 1/50\n",
            "----------\n",
            "train loss: 0.4749, acc: 0.7831\n",
            "test loss: 0.3627, acc: 0.8650\n",
            "model saved~\n",
            "Epoch 2/50\n",
            "----------\n",
            "train loss: 0.3343, acc: 0.8601\n",
            "test loss: 0.2651, acc: 0.9072\n",
            "model saved~\n",
            "Epoch 3/50\n",
            "----------\n",
            "train loss: 0.2973, acc: 0.8818\n",
            "test loss: 0.2553, acc: 0.9072\n",
            "Epoch 4/50\n",
            "----------\n",
            "train loss: 0.2661, acc: 0.8871\n",
            "test loss: 0.2794, acc: 0.8945\n",
            "Epoch 5/50\n",
            "----------\n",
            "train loss: 0.2714, acc: 0.8953\n",
            "test loss: 0.2411, acc: 0.8987\n",
            "Epoch 6/50\n",
            "----------\n",
            "train loss: 0.2498, acc: 0.9005\n",
            "test loss: 0.2387, acc: 0.9030\n",
            "Epoch 7/50\n",
            "----------\n",
            "train loss: 0.2529, acc: 0.8945\n",
            "test loss: 0.2480, acc: 0.9156\n",
            "model saved~\n",
            "Epoch 8/50\n",
            "----------\n",
            "train loss: 0.2285, acc: 0.9132\n",
            "test loss: 0.2336, acc: 0.9114\n",
            "Epoch 9/50\n",
            "----------\n",
            "train loss: 0.2672, acc: 0.8856\n",
            "test loss: 0.2936, acc: 0.8987\n",
            "Epoch 10/50\n",
            "----------\n",
            "train loss: 0.2525, acc: 0.8960\n",
            "test loss: 0.2924, acc: 0.8903\n",
            "Epoch 11/50\n",
            "----------\n",
            "train loss: 0.2333, acc: 0.9147\n",
            "test loss: 0.2591, acc: 0.8945\n",
            "Epoch 12/50\n",
            "----------\n",
            "train loss: 0.2136, acc: 0.9073\n",
            "test loss: 0.2459, acc: 0.8987\n",
            "Epoch 13/50\n",
            "----------\n",
            "train loss: 0.2375, acc: 0.9065\n",
            "test loss: 0.2496, acc: 0.8987\n",
            "Epoch 14/50\n",
            "----------\n",
            "train loss: 0.2460, acc: 0.8960\n",
            "test loss: 0.2986, acc: 0.8903\n",
            "Epoch 15/50\n",
            "----------\n",
            "train loss: 0.2318, acc: 0.9043\n",
            "test loss: 0.2397, acc: 0.9072\n",
            "Epoch 16/50\n",
            "----------\n",
            "train loss: 0.2228, acc: 0.9095\n",
            "test loss: 0.3098, acc: 0.8903\n",
            "Epoch 17/50\n",
            "----------\n",
            "train loss: 0.2199, acc: 0.9095\n",
            "test loss: 0.2723, acc: 0.8903\n",
            "Epoch 18/50\n",
            "----------\n",
            "train loss: 0.2267, acc: 0.9058\n",
            "test loss: 0.2518, acc: 0.9156\n",
            "Epoch 19/50\n",
            "----------\n",
            "train loss: 0.2354, acc: 0.9058\n",
            "test loss: 0.2418, acc: 0.9030\n",
            "Epoch 20/50\n",
            "----------\n",
            "train loss: 0.2064, acc: 0.9230\n",
            "test loss: 0.3131, acc: 0.8776\n",
            "Epoch 21/50\n",
            "----------\n",
            "train loss: 0.2295, acc: 0.9117\n",
            "test loss: 0.2386, acc: 0.9030\n",
            "Epoch 22/50\n",
            "----------\n",
            "train loss: 0.1864, acc: 0.9222\n",
            "test loss: 0.2377, acc: 0.9156\n",
            "Epoch 23/50\n",
            "----------\n",
            "train loss: 0.2105, acc: 0.9192\n",
            "test loss: 0.2482, acc: 0.8945\n",
            "Epoch 24/50\n",
            "----------\n",
            "train loss: 0.2168, acc: 0.9073\n",
            "test loss: 0.2373, acc: 0.9114\n",
            "Epoch 25/50\n",
            "----------\n",
            "train loss: 0.1885, acc: 0.9230\n",
            "test loss: 0.2399, acc: 0.9114\n",
            "Epoch 26/50\n",
            "----------\n",
            "train loss: 0.1841, acc: 0.9252\n",
            "test loss: 0.2337, acc: 0.9198\n",
            "model saved~\n",
            "Epoch 27/50\n",
            "----------\n",
            "train loss: 0.2082, acc: 0.9080\n",
            "test loss: 0.3395, acc: 0.8861\n",
            "Epoch 28/50\n",
            "----------\n",
            "train loss: 0.2194, acc: 0.9132\n",
            "test loss: 0.3006, acc: 0.8692\n",
            "Epoch 29/50\n",
            "----------\n",
            "train loss: 0.1813, acc: 0.9252\n",
            "test loss: 0.2406, acc: 0.9114\n",
            "Epoch 30/50\n",
            "----------\n",
            "train loss: 0.1837, acc: 0.9215\n",
            "test loss: 0.2546, acc: 0.9114\n",
            "Epoch 31/50\n",
            "----------\n",
            "train loss: 0.1738, acc: 0.9297\n",
            "test loss: 0.2350, acc: 0.9030\n",
            "Epoch 32/50\n",
            "----------\n",
            "train loss: 0.2124, acc: 0.9035\n",
            "test loss: 0.2437, acc: 0.9030\n",
            "Epoch 33/50\n",
            "----------\n",
            "train loss: 0.1797, acc: 0.9304\n",
            "test loss: 0.2650, acc: 0.8861\n",
            "Epoch 34/50\n",
            "----------\n",
            "train loss: 0.2111, acc: 0.9073\n",
            "test loss: 0.2950, acc: 0.8987\n",
            "Epoch 35/50\n",
            "----------\n",
            "train loss: 0.1866, acc: 0.9274\n",
            "test loss: 0.2710, acc: 0.9114\n",
            "Epoch 36/50\n",
            "----------\n",
            "train loss: 0.1817, acc: 0.9274\n",
            "test loss: 0.2627, acc: 0.8734\n",
            "Epoch 37/50\n",
            "----------\n",
            "train loss: 0.1971, acc: 0.9215\n",
            "test loss: 0.2525, acc: 0.9241\n",
            "model saved~\n",
            "Epoch 38/50\n",
            "----------\n",
            "train loss: 0.1672, acc: 0.9297\n",
            "test loss: 0.2629, acc: 0.8861\n",
            "Epoch 39/50\n",
            "----------\n",
            "train loss: 0.2310, acc: 0.9013\n",
            "test loss: 0.2366, acc: 0.9241\n",
            "Epoch 40/50\n",
            "----------\n",
            "train loss: 0.2339, acc: 0.8983\n",
            "test loss: 0.3023, acc: 0.8945\n",
            "Epoch 41/50\n",
            "----------\n",
            "train loss: 0.1655, acc: 0.9334\n",
            "test loss: 0.2575, acc: 0.9114\n",
            "Epoch 42/50\n",
            "----------\n",
            "train loss: 0.1819, acc: 0.9252\n",
            "test loss: 0.2423, acc: 0.9198\n",
            "Epoch 43/50\n",
            "----------\n",
            "train loss: 0.1893, acc: 0.9222\n",
            "test loss: 0.2468, acc: 0.9030\n",
            "Epoch 44/50\n",
            "----------\n",
            "train loss: 0.1745, acc: 0.9319\n",
            "test loss: 0.2434, acc: 0.9072\n",
            "Epoch 45/50\n",
            "----------\n",
            "train loss: 0.1682, acc: 0.9319\n",
            "test loss: 0.2431, acc: 0.9114\n",
            "Epoch 46/50\n",
            "----------\n",
            "train loss: 0.1597, acc: 0.9349\n",
            "test loss: 0.2717, acc: 0.9072\n",
            "Epoch 47/50\n",
            "----------\n",
            "train loss: 0.1679, acc: 0.9304\n",
            "test loss: 0.2588, acc: 0.8945\n",
            "Epoch 48/50\n",
            "----------\n",
            "train loss: 0.1888, acc: 0.9267\n",
            "test loss: 0.2870, acc: 0.8903\n",
            "Epoch 49/50\n",
            "----------\n",
            "train loss: 0.1592, acc: 0.9349\n",
            "test loss: 0.2940, acc: 0.8945\n",
            "Epoch 50/50\n",
            "----------\n",
            "train loss: 0.1668, acc: 0.9327\n",
            "test loss: 0.2119, acc: 0.9198\n"
          ]
        }
      ],
      "source": [
        "model_trained = train_model(model, criterion, optimizer, num_epochs=50)"
      ]
    },
    {
      "cell_type": "code",
      "execution_count": null,
      "metadata": {
        "colab": {
          "background_save": true
        },
        "id": "f_CcfKd1-zE6",
        "outputId": "9ffbf2a1-140e-4766-aa6f-a66a41d04cec"
      },
      "outputs": [
        {
          "ename": "RuntimeError",
          "evalue": "ignored",
          "output_type": "error",
          "traceback": [
            "\u001b[0;31m---------------------------------------------------------------------------\u001b[0m",
            "\u001b[0;31mRuntimeError\u001b[0m                              Traceback (most recent call last)",
            "\u001b[0;32m<ipython-input-30-482e718c1210>\u001b[0m in \u001b[0;36m<module>\u001b[0;34m\u001b[0m\n\u001b[1;32m     20\u001b[0m                nn.Linear(128, 2)).to(device)\n\u001b[1;32m     21\u001b[0m \u001b[0;34m\u001b[0m\u001b[0m\n\u001b[0;32m---> 22\u001b[0;31m \u001b[0mmodel\u001b[0m\u001b[0;34m.\u001b[0m\u001b[0mload_state_dict\u001b[0m\u001b[0;34m(\u001b[0m\u001b[0mtorch\u001b[0m\u001b[0;34m.\u001b[0m\u001b[0mload\u001b[0m\u001b[0;34m(\u001b[0m\u001b[0;34m'/content/drive/MyDrive/machine learning projects/monkey pox/weight/resnet(50).h5'\u001b[0m\u001b[0;34m)\u001b[0m\u001b[0;34m,\u001b[0m \u001b[0mstrict\u001b[0m\u001b[0;34m=\u001b[0m\u001b[0;32mFalse\u001b[0m\u001b[0;34m)\u001b[0m\u001b[0;34m\u001b[0m\u001b[0;34m\u001b[0m\u001b[0m\n\u001b[0m",
            "\u001b[0;32m/usr/local/lib/python3.7/dist-packages/torch/nn/modules/module.py\u001b[0m in \u001b[0;36mload_state_dict\u001b[0;34m(self, state_dict, strict)\u001b[0m\n\u001b[1;32m   1603\u001b[0m         \u001b[0;32mif\u001b[0m \u001b[0mlen\u001b[0m\u001b[0;34m(\u001b[0m\u001b[0merror_msgs\u001b[0m\u001b[0;34m)\u001b[0m \u001b[0;34m>\u001b[0m \u001b[0;36m0\u001b[0m\u001b[0;34m:\u001b[0m\u001b[0;34m\u001b[0m\u001b[0;34m\u001b[0m\u001b[0m\n\u001b[1;32m   1604\u001b[0m             raise RuntimeError('Error(s) in loading state_dict for {}:\\n\\t{}'.format(\n\u001b[0;32m-> 1605\u001b[0;31m                                self.__class__.__name__, \"\\n\\t\".join(error_msgs)))\n\u001b[0m\u001b[1;32m   1606\u001b[0m         \u001b[0;32mreturn\u001b[0m \u001b[0m_IncompatibleKeys\u001b[0m\u001b[0;34m(\u001b[0m\u001b[0mmissing_keys\u001b[0m\u001b[0;34m,\u001b[0m \u001b[0munexpected_keys\u001b[0m\u001b[0;34m)\u001b[0m\u001b[0;34m\u001b[0m\u001b[0;34m\u001b[0m\u001b[0m\n\u001b[1;32m   1607\u001b[0m \u001b[0;34m\u001b[0m\u001b[0m\n",
            "\u001b[0;31mRuntimeError\u001b[0m: Error(s) in loading state_dict for ResNet:\n\tsize mismatch for layer1.0.conv1.weight: copying a param with shape torch.Size([64, 64, 1, 1]) from checkpoint, the shape in current model is torch.Size([64, 64, 3, 3]).\n\tsize mismatch for layer1.1.conv1.weight: copying a param with shape torch.Size([64, 256, 1, 1]) from checkpoint, the shape in current model is torch.Size([64, 64, 3, 3]).\n\tsize mismatch for layer2.0.conv1.weight: copying a param with shape torch.Size([128, 256, 1, 1]) from checkpoint, the shape in current model is torch.Size([128, 64, 3, 3]).\n\tsize mismatch for layer2.0.downsample.0.weight: copying a param with shape torch.Size([512, 256, 1, 1]) from checkpoint, the shape in current model is torch.Size([128, 64, 1, 1]).\n\tsize mismatch for layer2.0.downsample.1.weight: copying a param with shape torch.Size([512]) from checkpoint, the shape in current model is torch.Size([128]).\n\tsize mismatch for layer2.0.downsample.1.bias: copying a param with shape torch.Size([512]) from checkpoint, the shape in current model is torch.Size([128]).\n\tsize mismatch for layer2.0.downsample.1.running_mean: copying a param with shape torch.Size([512]) from checkpoint, the shape in current model is torch.Size([128]).\n\tsize mismatch for layer2.0.downsample.1.running_var: copying a param with shape torch.Size([512]) from checkpoint, the shape in current model is torch.Size([128]).\n\tsize mismatch for layer2.1.conv1.weight: copying a param with shape torch.Size([128, 512, 1, 1]) from checkpoint, the shape in current model is torch.Size([128, 128, 3, 3]).\n\tsize mismatch for layer3.0.conv1.weight: copying a param with shape torch.Size([256, 512, 1, 1]) from checkpoint, the shape in current model is torch.Size([256, 128, 3, 3]).\n\tsize mismatch for layer3.0.downsample.0.weight: copying a param with shape torch.Size([1024, 512, 1, 1]) from checkpoint, the shape in current model is torch.Size([256, 128, 1, 1]).\n\tsize mismatch for layer3.0.downsample.1.weight: copying a param with shape torch.Size([1024]) from checkpoint, the shape in current model is torch.Size([256]).\n\tsize mismatch for layer3.0.downsample.1.bias: copying a param with shape torch.Size([1024]) from checkpoint, the shape in current model is torch.Size([256]).\n\tsize mismatch for layer3.0.downsample.1.running_mean: copying a param with shape torch.Size([1024]) from checkpoint, the shape in current model is torch.Size([256]).\n\tsize mismatch for layer3.0.downsample.1.running_var: copying a param with shape torch.Size([1024]) from checkpoint, the shape in current model is torch.Size([256]).\n\tsize mismatch for layer3.1.conv1.weight: copying a param with shape torch.Size([256, 1024, 1, 1]) from checkpoint, the shape in current model is torch.Size([256, 256, 3, 3]).\n\tsize mismatch for layer4.0.conv1.weight: copying a param with shape torch.Size([512, 1024, 1, 1]) from checkpoint, the shape in current model is torch.Size([512, 256, 3, 3]).\n\tsize mismatch for layer4.0.downsample.0.weight: copying a param with shape torch.Size([2048, 1024, 1, 1]) from checkpoint, the shape in current model is torch.Size([512, 256, 1, 1]).\n\tsize mismatch for layer4.0.downsample.1.weight: copying a param with shape torch.Size([2048]) from checkpoint, the shape in current model is torch.Size([512]).\n\tsize mismatch for layer4.0.downsample.1.bias: copying a param with shape torch.Size([2048]) from checkpoint, the shape in current model is torch.Size([512]).\n\tsize mismatch for layer4.0.downsample.1.running_mean: copying a param with shape torch.Size([2048]) from checkpoint, the shape in current model is torch.Size([512]).\n\tsize mismatch for layer4.0.downsample.1.running_var: copying a param with shape torch.Size([2048]) from checkpoint, the shape in current model is torch.Size([512]).\n\tsize mismatch for layer4.1.conv1.weight: copying a param with shape torch.Size([512, 2048, 1, 1]) from checkpoint, the shape in current model is torch.Size([512, 512, 3, 3])."
          ]
        }
      ],
      "source": [
        "import pandas as pd\n",
        "import numpy as np\n",
        "import seaborn as sns\n",
        "import matplotlib.pyplot as plt\n",
        "\n",
        "import torch\n",
        "from torchvision import datasets, models, transforms\n",
        "import torch.nn as nn\n",
        "from torch.nn import functional as F\n",
        "import torch.optim as optim\n",
        "import torchvision\n",
        "\n",
        "from PIL import Image\n",
        "\n",
        "device = torch.device(\"cuda:0\" if torch.cuda.is_available() else \"cpu\")\n",
        "model = models.resnet18(weights=None).to(device)\n",
        "model.fc = nn.Sequential(\n",
        "               nn.Linear(2048, 128),\n",
        "               nn.ReLU(inplace=True),\n",
        "               nn.Linear(128, 2)).to(device)\n",
        "\n",
        "model.load_state_dict(torch.load('/content/drive/MyDrive/machine learning projects/monkey pox/weight/resnet(50).h5'), strict=False)"
      ]
    },
    {
      "cell_type": "code",
      "execution_count": null,
      "metadata": {
        "colab": {
          "background_save": true
        },
        "id": "VZ1j3CrZQPK5"
      },
      "outputs": [],
      "source": [
        "import os\n",
        "test_mon= os.listdir(\"/content/drive/MyDrive/machine learning projects/training set/monkey pox/test/monkeypox\")\n",
        "print(test_mon)\n",
        "test_oth= os.listdir(\"/content/drive/MyDrive/machine learning projects/training set/monkey pox/test/others\")\n",
        "print(test_oth)\n",
        "classes = os.listdir(\"/content/drive/MyDrive/machine learning projects/training set/monkey pox/test\")\n",
        "print(classes)"
      ]
    },
    {
      "cell_type": "code",
      "execution_count": null,
      "metadata": {
        "colab": {
          "background_save": true
        },
        "id": "f2vPTJbYOAsL"
      },
      "outputs": [],
      "source": [
        "mon_list = [Image.open( \"/content/drive/MyDrive/machine learning projects/training set/monkey pox/test/monkeypox/\" + img_path) for img_path in test_mon]\n",
        "oth_list = [Image.open( \"/content/drive/MyDrive/machine learning projects/training set/monkey pox/test/others/\" +img_path) for img_path in test_oth]\n",
        "print(oth_list)"
      ]
    },
    {
      "cell_type": "code",
      "execution_count": null,
      "metadata": {
        "colab": {
          "background_save": true
        },
        "id": "CuYqdH63Qv6V"
      },
      "outputs": [],
      "source": [
        "validation_batch1 = torch.stack([data_transforms['test'](img).to(device)\n",
        "                                for img in mon_list])\n",
        "validation_batch2 = torch.stack([data_transforms['test'](img).to(device)\n",
        "                                for img in oth_list])"
      ]
    },
    {
      "cell_type": "code",
      "execution_count": null,
      "metadata": {
        "colab": {
          "background_save": true
        },
        "id": "1EIytm3cRp_A"
      },
      "outputs": [],
      "source": [
        "pred_logits_tensor = model(validation_batch1)\n",
        "pred_logits_tensor\n"
      ]
    },
    {
      "cell_type": "code",
      "execution_count": null,
      "metadata": {
        "colab": {
          "background_save": true
        },
        "id": "4fcEUfXZR8eb"
      },
      "outputs": [],
      "source": [
        "pred_probs = F.softmax(pred_logits_tensor, dim=1).cpu().data.numpy()\n",
        "pred_probs"
      ]
    },
    {
      "cell_type": "code",
      "execution_count": null,
      "metadata": {
        "colab": {
          "background_save": true
        },
        "id": "nhJ0PfwkSBNA"
      },
      "outputs": [],
      "source": [
        "fig, axs = plt.subplots(len(mon_list), 1, figsize=(150, 100))\n",
        "for i, img in enumerate(mon_list):\n",
        "    ax = axs[i]\n",
        "    ax.axis('off')\n",
        "    ax.set_title(\"{:.0f}% other, {:.0f}% monkeypox\".format(100*pred_probs[i,0],\n",
        "                                                            100*pred_probs[i,1]))\n",
        "    ax.imshow(img)"
      ]
    },
    {
      "cell_type": "code",
      "execution_count": null,
      "metadata": {
        "colab": {
          "background_save": true
        },
        "id": "2qLOT45tlaau"
      },
      "outputs": [],
      "source": [
        "pred_logits_tensor = model(validation_batch2)\n",
        "pred_logits_tensor\n",
        "pred_probs = F.softmax(pred_logits_tensor, dim=2).cpu().data.numpy()\n",
        "pred_probs"
      ]
    },
    {
      "cell_type": "code",
      "execution_count": null,
      "metadata": {
        "id": "uw08O7r1SMLw"
      },
      "outputs": [],
      "source": [
        "fig, axs = plt.subplots(len(oth_list), 1, figsize=(150, 100))\n",
        "for i, img in enumerate(oth_list):\n",
        "    ax = axs[i]\n",
        "    ax.axis('off')\n",
        "    ax.set_title(\"{:.0f}% monkeypox, {:.0f}% other\".format(100*pred_probs2[i,0],\n",
        "                                                            100*pred_probs2[i,1]))\n",
        "    ax.imshow(img)"
      ]
    },
    {
      "cell_type": "code",
      "execution_count": null,
      "metadata": {
        "id": "o_g4CqFkSZTg"
      },
      "outputs": [],
      "source": []
    }
  ],
  "metadata": {
    "accelerator": "GPU",
    "colab": {
      "collapsed_sections": [],
      "name": "models.ipynb",
      "provenance": []
    },
    "gpuClass": "standard",
    "kernelspec": {
      "display_name": "Python 3",
      "name": "python3"
    },
    "language_info": {
      "name": "python"
    },
    "widgets": {
      "application/vnd.jupyter.widget-state+json": {
        "12961ea048554a3ba506226850e0236e": {
          "model_module": "@jupyter-widgets/controls",
          "model_module_version": "2.0.0",
          "model_name": "HTMLStyleModel",
          "state": {
            "_model_module": "@jupyter-widgets/controls",
            "_model_module_version": "2.0.0",
            "_model_name": "HTMLStyleModel",
            "_view_count": null,
            "_view_module": "@jupyter-widgets/base",
            "_view_module_version": "2.0.0",
            "_view_name": "StyleView",
            "background": null,
            "description_width": "",
            "font_size": null,
            "text_color": null
          }
        },
        "13747e21be5943beae8223178a5ece3f": {
          "model_module": "@jupyter-widgets/base",
          "model_module_version": "2.0.0",
          "model_name": "LayoutModel",
          "state": {
            "_model_module": "@jupyter-widgets/base",
            "_model_module_version": "2.0.0",
            "_model_name": "LayoutModel",
            "_view_count": null,
            "_view_module": "@jupyter-widgets/base",
            "_view_module_version": "2.0.0",
            "_view_name": "LayoutView",
            "align_content": null,
            "align_items": null,
            "align_self": null,
            "border_bottom": null,
            "border_left": null,
            "border_right": null,
            "border_top": null,
            "bottom": null,
            "display": null,
            "flex": null,
            "flex_flow": null,
            "grid_area": null,
            "grid_auto_columns": null,
            "grid_auto_flow": null,
            "grid_auto_rows": null,
            "grid_column": null,
            "grid_gap": null,
            "grid_row": null,
            "grid_template_areas": null,
            "grid_template_columns": null,
            "grid_template_rows": null,
            "height": null,
            "justify_content": null,
            "justify_items": null,
            "left": null,
            "margin": null,
            "max_height": null,
            "max_width": null,
            "min_height": null,
            "min_width": null,
            "object_fit": null,
            "object_position": null,
            "order": null,
            "overflow": null,
            "padding": null,
            "right": null,
            "top": null,
            "visibility": null,
            "width": null
          }
        },
        "2555e077e1d64c0388786d245eae34ff": {
          "model_module": "@jupyter-widgets/controls",
          "model_module_version": "2.0.0",
          "model_name": "HTMLModel",
          "state": {
            "_dom_classes": [],
            "_model_module": "@jupyter-widgets/controls",
            "_model_module_version": "2.0.0",
            "_model_name": "HTMLModel",
            "_view_count": null,
            "_view_module": "@jupyter-widgets/controls",
            "_view_module_version": "2.0.0",
            "_view_name": "HTMLView",
            "description": "",
            "description_allow_html": false,
            "layout": "IPY_MODEL_49fd710c9d7a42eba42249efb3371e65",
            "placeholder": "​",
            "style": "IPY_MODEL_12961ea048554a3ba506226850e0236e",
            "tabbable": null,
            "tooltip": null,
            "value": "100%"
          }
        },
        "40b90ae599a4477bb9b0a8a52899f845": {
          "model_module": "@jupyter-widgets/controls",
          "model_module_version": "2.0.0",
          "model_name": "HBoxModel",
          "state": {
            "_dom_classes": [],
            "_model_module": "@jupyter-widgets/controls",
            "_model_module_version": "2.0.0",
            "_model_name": "HBoxModel",
            "_view_count": null,
            "_view_module": "@jupyter-widgets/controls",
            "_view_module_version": "2.0.0",
            "_view_name": "HBoxView",
            "box_style": "",
            "children": [
              "IPY_MODEL_2555e077e1d64c0388786d245eae34ff",
              "IPY_MODEL_68e5e6b31e124ba3a5de21aa8252a68b",
              "IPY_MODEL_ef39ed49e7cb463f9b80ef95eb18cb95"
            ],
            "layout": "IPY_MODEL_effd480771d244ba930cc7e16d0f101b",
            "tabbable": null,
            "tooltip": null
          }
        },
        "49fd710c9d7a42eba42249efb3371e65": {
          "model_module": "@jupyter-widgets/base",
          "model_module_version": "2.0.0",
          "model_name": "LayoutModel",
          "state": {
            "_model_module": "@jupyter-widgets/base",
            "_model_module_version": "2.0.0",
            "_model_name": "LayoutModel",
            "_view_count": null,
            "_view_module": "@jupyter-widgets/base",
            "_view_module_version": "2.0.0",
            "_view_name": "LayoutView",
            "align_content": null,
            "align_items": null,
            "align_self": null,
            "border_bottom": null,
            "border_left": null,
            "border_right": null,
            "border_top": null,
            "bottom": null,
            "display": null,
            "flex": null,
            "flex_flow": null,
            "grid_area": null,
            "grid_auto_columns": null,
            "grid_auto_flow": null,
            "grid_auto_rows": null,
            "grid_column": null,
            "grid_gap": null,
            "grid_row": null,
            "grid_template_areas": null,
            "grid_template_columns": null,
            "grid_template_rows": null,
            "height": null,
            "justify_content": null,
            "justify_items": null,
            "left": null,
            "margin": null,
            "max_height": null,
            "max_width": null,
            "min_height": null,
            "min_width": null,
            "object_fit": null,
            "object_position": null,
            "order": null,
            "overflow": null,
            "padding": null,
            "right": null,
            "top": null,
            "visibility": null,
            "width": null
          }
        },
        "68e5e6b31e124ba3a5de21aa8252a68b": {
          "model_module": "@jupyter-widgets/controls",
          "model_module_version": "2.0.0",
          "model_name": "FloatProgressModel",
          "state": {
            "_dom_classes": [],
            "_model_module": "@jupyter-widgets/controls",
            "_model_module_version": "2.0.0",
            "_model_name": "FloatProgressModel",
            "_view_count": null,
            "_view_module": "@jupyter-widgets/controls",
            "_view_module_version": "2.0.0",
            "_view_name": "ProgressView",
            "bar_style": "success",
            "description": "",
            "description_allow_html": false,
            "layout": "IPY_MODEL_13747e21be5943beae8223178a5ece3f",
            "max": 102530333,
            "min": 0,
            "orientation": "horizontal",
            "style": "IPY_MODEL_a30854d049e540cb81f31da9eae9cfd7",
            "tabbable": null,
            "tooltip": null,
            "value": 102530333
          }
        },
        "7fbd16582654438e8be86507057dd53e": {
          "model_module": "@jupyter-widgets/base",
          "model_module_version": "2.0.0",
          "model_name": "LayoutModel",
          "state": {
            "_model_module": "@jupyter-widgets/base",
            "_model_module_version": "2.0.0",
            "_model_name": "LayoutModel",
            "_view_count": null,
            "_view_module": "@jupyter-widgets/base",
            "_view_module_version": "2.0.0",
            "_view_name": "LayoutView",
            "align_content": null,
            "align_items": null,
            "align_self": null,
            "border_bottom": null,
            "border_left": null,
            "border_right": null,
            "border_top": null,
            "bottom": null,
            "display": null,
            "flex": null,
            "flex_flow": null,
            "grid_area": null,
            "grid_auto_columns": null,
            "grid_auto_flow": null,
            "grid_auto_rows": null,
            "grid_column": null,
            "grid_gap": null,
            "grid_row": null,
            "grid_template_areas": null,
            "grid_template_columns": null,
            "grid_template_rows": null,
            "height": null,
            "justify_content": null,
            "justify_items": null,
            "left": null,
            "margin": null,
            "max_height": null,
            "max_width": null,
            "min_height": null,
            "min_width": null,
            "object_fit": null,
            "object_position": null,
            "order": null,
            "overflow": null,
            "padding": null,
            "right": null,
            "top": null,
            "visibility": null,
            "width": null
          }
        },
        "a30854d049e540cb81f31da9eae9cfd7": {
          "model_module": "@jupyter-widgets/controls",
          "model_module_version": "2.0.0",
          "model_name": "ProgressStyleModel",
          "state": {
            "_model_module": "@jupyter-widgets/controls",
            "_model_module_version": "2.0.0",
            "_model_name": "ProgressStyleModel",
            "_view_count": null,
            "_view_module": "@jupyter-widgets/base",
            "_view_module_version": "2.0.0",
            "_view_name": "StyleView",
            "bar_color": null,
            "description_width": ""
          }
        },
        "c134246d32db49198fc367f9aeb2ba85": {
          "model_module": "@jupyter-widgets/controls",
          "model_module_version": "2.0.0",
          "model_name": "HTMLStyleModel",
          "state": {
            "_model_module": "@jupyter-widgets/controls",
            "_model_module_version": "2.0.0",
            "_model_name": "HTMLStyleModel",
            "_view_count": null,
            "_view_module": "@jupyter-widgets/base",
            "_view_module_version": "2.0.0",
            "_view_name": "StyleView",
            "background": null,
            "description_width": "",
            "font_size": null,
            "text_color": null
          }
        },
        "ef39ed49e7cb463f9b80ef95eb18cb95": {
          "model_module": "@jupyter-widgets/controls",
          "model_module_version": "2.0.0",
          "model_name": "HTMLModel",
          "state": {
            "_dom_classes": [],
            "_model_module": "@jupyter-widgets/controls",
            "_model_module_version": "2.0.0",
            "_model_name": "HTMLModel",
            "_view_count": null,
            "_view_module": "@jupyter-widgets/controls",
            "_view_module_version": "2.0.0",
            "_view_name": "HTMLView",
            "description": "",
            "description_allow_html": false,
            "layout": "IPY_MODEL_7fbd16582654438e8be86507057dd53e",
            "placeholder": "​",
            "style": "IPY_MODEL_c134246d32db49198fc367f9aeb2ba85",
            "tabbable": null,
            "tooltip": null,
            "value": " 97.8M/97.8M [00:01&lt;00:00, 92.1MB/s]"
          }
        },
        "effd480771d244ba930cc7e16d0f101b": {
          "model_module": "@jupyter-widgets/base",
          "model_module_version": "2.0.0",
          "model_name": "LayoutModel",
          "state": {
            "_model_module": "@jupyter-widgets/base",
            "_model_module_version": "2.0.0",
            "_model_name": "LayoutModel",
            "_view_count": null,
            "_view_module": "@jupyter-widgets/base",
            "_view_module_version": "2.0.0",
            "_view_name": "LayoutView",
            "align_content": null,
            "align_items": null,
            "align_self": null,
            "border_bottom": null,
            "border_left": null,
            "border_right": null,
            "border_top": null,
            "bottom": null,
            "display": null,
            "flex": null,
            "flex_flow": null,
            "grid_area": null,
            "grid_auto_columns": null,
            "grid_auto_flow": null,
            "grid_auto_rows": null,
            "grid_column": null,
            "grid_gap": null,
            "grid_row": null,
            "grid_template_areas": null,
            "grid_template_columns": null,
            "grid_template_rows": null,
            "height": null,
            "justify_content": null,
            "justify_items": null,
            "left": null,
            "margin": null,
            "max_height": null,
            "max_width": null,
            "min_height": null,
            "min_width": null,
            "object_fit": null,
            "object_position": null,
            "order": null,
            "overflow": null,
            "padding": null,
            "right": null,
            "top": null,
            "visibility": null,
            "width": null
          }
        }
      }
    }
  },
  "nbformat": 4,
  "nbformat_minor": 0
}