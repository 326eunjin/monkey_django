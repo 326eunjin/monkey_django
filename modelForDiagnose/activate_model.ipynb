{
  "nbformat": 4,
  "nbformat_minor": 0,
  "metadata": {
    "colab": {
      "provenance": [],
      "collapsed_sections": []
    },
    "kernelspec": {
      "name": "python3",
      "display_name": "Python 3"
    },
    "language_info": {
      "name": "python"
    },
    "gpuClass": "standard"
  },
  "cells": [
    {
      "cell_type": "code",
      "source": [
        "import pandas as pd\n",
        "import numpy as np\n",
        "import seaborn as sns\n",
        "import matplotlib.pyplot as plt\n",
        "import os\n",
        "import torch\n",
        "from torchvision import datasets, models, transforms\n",
        "import torch.nn as nn\n",
        "from torch.nn import functional as F\n",
        "import torch.optim as optim\n",
        "import torchvision\n",
        "import joblib\n",
        "from PIL import Image\n",
        "def model_activate(img_path,model_path):\n",
        "  device = torch.device(\"cuda:0\" if torch.cuda.is_available() else \"cpu\")\n",
        "  model = models.resnet18(weights=None).to(device)\n",
        "  model.fc = nn.Sequential(\n",
        "                nn.Linear(512, 128),\n",
        "                nn.ReLU(inplace=True),\n",
        "                nn.Linear(128, 2)).to(device)\n",
        "\n",
        "\n",
        "  model = joblib.load(model_path)\n",
        "  classes = ['others', 'monkeypox']\n",
        "  #이건 테스트할 테스트 데이터 셋인데 저장해둔 사진 파일 위치 올려놓기\n",
        "\n",
        "  file_list = Image.open(img_path)\n",
        "  #위에 문장에서 파일명을 받았으니 파일명과 나머지 주소를 합치는 과정\n",
        "  print(file_list)\n",
        "  normalize = transforms.Normalize(mean=[0.485, 0.456, 0.406],\n",
        "                                  std=[0.229, 0.224, 0.225])\n",
        "\n",
        "  data_transforms = {\n",
        "      'train':\n",
        "      transforms.Compose([\n",
        "          transforms.Resize((224,224)),\n",
        "          transforms.RandomAffine(0, shear=10, scale=(0.8,1.2)),\n",
        "          transforms.RandomHorizontalFlip(),\n",
        "          transforms.ToTensor(),\n",
        "          normalize\n",
        "      ]),\n",
        "      'test':\n",
        "      transforms.Compose([\n",
        "          transforms.Resize((224,224)),\n",
        "          transforms.ToTensor(),\n",
        "          normalize\n",
        "      ]),\n",
        "  }\n",
        "  #이미지 전처리 과정인데 여기서 'test' 부분으로 test데이터셋 resize해서 이미지 크기 평준화 시키는곳\n",
        "  validation_batch1 = torch.stack([data_transforms['test'](file_list).to(device)])\n",
        "\n",
        "  #이건 내가 위에꺼가 원숭이두창, 나머지로 원숭이두창, 나머지의 결과가 어떻게 나오나 보려고 나눠둔것 validation_batch한개만 있어도 상관 없음\n",
        "  pred_logits_tensor = model(validation_batch1)\n",
        "  pred_probs = F.softmax(pred_logits_tensor, dim=1).cpu().data.numpy()\n",
        "  monkey = int(pred_probs[0][0]*100)\n",
        "  return monkey\n",
        "  "
      ],
      "metadata": {
        "id": "In5UFVrY91fI"
      },
      "execution_count": 6,
      "outputs": []
    },
    {
      "cell_type": "code",
      "source": [
        "monkey = model_activate(\"/content/drive/MyDrive/machine learning projects/training set/monkey pox/test/monkeypox/monkeypox83.png\",\"/content/drive/MyDrive/machine learning projects/monkey pox/weight/resnet(cpu)(18).pkl\")\n",
        "print(monkey)"
      ],
      "metadata": {
        "colab": {
          "base_uri": "https://localhost:8080/"
        },
        "id": "6xprJZxbBylU",
        "outputId": "d443c9a7-ae34-4606-9b5b-c02858441e3d"
      },
      "execution_count": 14,
      "outputs": [
        {
          "output_type": "stream",
          "name": "stdout",
          "text": [
            "<PIL.PngImagePlugin.PngImageFile image mode=RGB size=224x224 at 0x7F425B205A50>\n",
            "98\n"
          ]
        }
      ]
    },
    {
      "cell_type": "code",
      "source": [
        "    "
      ],
      "metadata": {
        "id": "HryXGJSZ5tG9"
      },
      "execution_count": null,
      "outputs": []
    }
  ]
}