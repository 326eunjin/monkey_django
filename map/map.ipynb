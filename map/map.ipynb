{
  "nbformat": 4,
  "nbformat_minor": 0,
  "metadata": {
    "colab": {
      "provenance": []
    },
    "kernelspec": {
      "name": "python3",
      "display_name": "Python 3"
    },
    "language_info": {
      "name": "python"
    }
  },
  "cells": [
    {
      "cell_type": "code",
      "source": [
        "import numpy as np\n",
        "import pandas as pd\n",
        "import matplotlib.pyplot as plt\n",
        "import seaborn as sns\n",
        "import plotly.express as px\n",
        "\n",
        "from plotly.offline import init_notebook_mode\n",
        "init_notebook_mode(connected=True)\n",
        "case = pd.read_csv(\"C:/Users/user/Downloads/archive (3)/Monkey_Pox_Cases_Worldwide.csv\")\n",
        "\n",
        "palette_map = [\"#FFBA08\",\"#FAA307\",\"#F48C06\",\"#E85D04\",\"#DC2F02\",\"#D00000\",\"#9D0208\",\"#6A040F\",\"#370617\",\"#03071E\"]\n",
        "\n",
        "sns.palplot(sns.color_palette(palette_map))\n",
        "fig = px.choropleth(data_frame = case,\n",
        "                    locations=\"Country\",locationmode=\"country names\", color=\"Confirmed_Cases\",\n",
        "                    color_continuous_scale=palette_map,height= 500,scope=\"world\",\n",
        "                    labels={\"Confirmed_Cases\":\"Confirmed Cases\"})\n",
        "\n",
        "fig.update_layout(title={\"text\": \"Origins of Confirmed Monkeypox Cases\",\n",
        "                         \"y\":0.9,\n",
        "                         \"x\":0.5,\n",
        "                         \"xanchor\": \"center\",\n",
        "                         \"yanchor\": \"top\"})\n",
        "fig.show()\n",
        "plt.savefig('test.png')"
      ],
      "metadata": {
        "id": "RWAvtCz80Lb8"
      },
      "execution_count": null,
      "outputs": []
    }
  ]
}